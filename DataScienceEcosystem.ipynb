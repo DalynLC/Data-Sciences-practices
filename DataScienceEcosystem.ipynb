{
 "cells": [
  {
   "cell_type": "markdown",
   "id": "fb9fd511",
   "metadata": {},
   "source": [
    "# Data Science Tools and Ecosystem"
   ]
  },
  {
   "cell_type": "markdown",
   "id": "67b77dc0",
   "metadata": {},
   "source": [
    "In this notebook, Data Science Tools, and Ecosystems will be summarized. The lessons, tools and practices from the previous modules will be put in practice here."
   ]
  },
  {
   "cell_type": "markdown",
   "id": "28c3a16c",
   "metadata": {},
   "source": [
    "Objectives:\n",
    "- Data Science Popular Languages\n",
    "- Data Science Popular Libraries\n",
    "- Data Science Tools\n",
    "- Examples of Arithmetic Expressions\n"
   ]
  },
  {
   "cell_type": "markdown",
   "id": "e47d5b35",
   "metadata": {},
   "source": [
    "Some of the popular languages that Data Science use are:\n",
    "1. Python\n",
    "2. R\n",
    "3. SQL"
   ]
  },
  {
   "cell_type": "markdown",
   "id": "471d27ec",
   "metadata": {},
   "source": [
    "Some of the commonly used libraries used by Data Scientists include:\n",
    "1. Carat\n",
    "2. ggplot\n",
    "3. Plotly"
   ]
  },
  {
   "cell_type": "markdown",
   "id": "9ad88c89",
   "metadata": {},
   "source": [
    "|Data Science Tools|\n",
    "---\n",
    "|RStudio|\n",
    "|Anaconda Navigator|\n",
    "|Visual Studio|"
   ]
  },
  {
   "cell_type": "markdown",
   "id": "b0fd7b81",
   "metadata": {},
   "source": [
    "### Below are a few examples of evaluating arithmetic expressions in Python\n",
    "x<-10\n",
    "y<-20\n",
    "\n",
    "z<-y-x\n",
    "z<-x+y\n",
    "z<-x*y\n",
    "\n"
   ]
  },
  {
   "cell_type": "code",
   "execution_count": 3,
   "id": "57434813",
   "metadata": {},
   "outputs": [
    {
     "data": {
      "text/plain": [
       "17"
      ]
     },
     "execution_count": 3,
     "metadata": {},
     "output_type": "execute_result"
    }
   ],
   "source": [
    "# This a simple arithmetic expression to mutiply then add integers\n",
    "(3*4)+5"
   ]
  },
  {
   "cell_type": "code",
   "execution_count": 4,
   "id": "c70f5508",
   "metadata": {},
   "outputs": [
    {
     "data": {
      "text/plain": [
       "3"
      ]
     },
     "execution_count": 4,
     "metadata": {},
     "output_type": "execute_result"
    }
   ],
   "source": [
    "#  This will convert 200 minutes to hours by diving by 60\n",
    "200//60"
   ]
  },
  {
   "cell_type": "markdown",
   "id": "df28f5df",
   "metadata": {},
   "source": [
    "## Author\n",
    "Dalyn Yenisey Lara Cortes"
   ]
  },
  {
   "cell_type": "code",
   "execution_count": null,
   "id": "844ab080",
   "metadata": {},
   "outputs": [],
   "source": []
  }
 ],
 "metadata": {
  "kernelspec": {
   "display_name": "Python 3 (ipykernel)",
   "language": "python",
   "name": "python3"
  },
  "language_info": {
   "codemirror_mode": {
    "name": "ipython",
    "version": 3
   },
   "file_extension": ".py",
   "mimetype": "text/x-python",
   "name": "python",
   "nbconvert_exporter": "python",
   "pygments_lexer": "ipython3",
   "version": "3.10.14"
  }
 },
 "nbformat": 4,
 "nbformat_minor": 5
}
